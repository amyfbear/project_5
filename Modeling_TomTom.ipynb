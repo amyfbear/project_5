{
 "cells": [
  {
   "cell_type": "markdown",
   "metadata": {
    "toc": true
   },
   "source": [
    "<h1>Table of Contents<span class=\"tocSkip\"></span></h1>\n",
    "<div class=\"toc\"><ul class=\"toc-item\"><li><span><a href=\"#Executive-Summary\" data-toc-modified-id=\"Executive-Summary-1\">Executive Summary</a></span><ul class=\"toc-item\"><li><span><a href=\"#Importing-the-Libraries\" data-toc-modified-id=\"Importing-the-Libraries-1.1\">Importing the Libraries</a></span></li><li><span><a href=\"#Reading-the-data\" data-toc-modified-id=\"Reading-the-data-1.2\">Reading the data</a></span></li><li><span><a href=\"#Some-basic-Cleaning-(-EDA-is-done-in-another-notebook)\" data-toc-modified-id=\"Some-basic-Cleaning-(-EDA-is-done-in-another-notebook)-1.3\">Some basic Cleaning ( EDA is done in another notebook)</a></span><ul class=\"toc-item\"><li><span><a href=\"#Saving-the-cleaned-data-as-a-csv\" data-toc-modified-id=\"Saving-the-cleaned-data-as-a-csv-1.3.1\">Saving the cleaned data as a csv</a></span></li></ul></li></ul></li><li><span><a href=\"#Modeling\" data-toc-modified-id=\"Modeling-2\">Modeling</a></span><ul class=\"toc-item\"><li><ul class=\"toc-item\"><li><span><a href=\"#Setting-up-the-variables-for-DBScan\" data-toc-modified-id=\"Setting-up-the-variables-for-DBScan-2.0.1\">Setting up the variables for DBScan</a></span></li><li><span><a href=\"#Scaling-the-variables-and-fitting/transforming-the-model\" data-toc-modified-id=\"Scaling-the-variables-and-fitting/transforming-the-model-2.0.2\">Scaling the variables and fitting/transforming the model</a></span></li></ul></li><li><span><a href=\"#Model-Evaluation:\" data-toc-modified-id=\"Model-Evaluation:-2.1\">Model Evaluation:</a></span></li></ul></li><li><span><a href=\"#Conclusion\" data-toc-modified-id=\"Conclusion-3\">Conclusion</a></span></li></ul></div>"
   ]
  },
  {
   "cell_type": "markdown",
   "metadata": {},
   "source": [
    "# Executive Summary"
   ]
  },
  {
   "cell_type": "markdown",
   "metadata": {},
   "source": [
    "We pulled data multiple times a day from the Tom Tom API to be able to get live data about road and traffic conditions in the city. After cleaning and doing basic EDA, in order to validate the efficiency of routing given by Tom Tom we decided to use an Unsupervised Model since we did not have a target variable. We used the DBScan Clustering Algorithm to cluster high density traffic areas in the city. DBSCan is an UNSUPERVISED clustering Algorithm, so there is no true way to evaluate it. The mechanism for clustering is that the neighborhood of a given radius has to contain  a minimum number of points.  Therefore the parameters of the model are the radius  and the number of points included in the cluster. For our modeling we utilized the coordinates of traffic incidents. We tried different values for the eps and minimum number of observations to get the best value counts for the clusters and minimizing the outliers. We also tried to get the best value for the Silhouette Score \n",
    "Being that there is no way to really evaluate the model, we still used pseudo metrics for our evaluation purposes.\n",
    "The Silhouette Score shows the proximity and density of clusters and has values from -1 to 1. We chose the Silhouette Score for our model because it showed us the relationship between our clusters. "
   ]
  },
  {
   "cell_type": "markdown",
   "metadata": {},
   "source": [
    "## Importing the Libraries"
   ]
  },
  {
   "cell_type": "code",
   "execution_count": 1,
   "metadata": {},
   "outputs": [],
   "source": [
    "import pandas as pd\n",
    "import numpy as np\n",
    "import matplotlib.pyplot as plt\n",
    "import seaborn as sns\n",
    "\n",
    "from sklearn.preprocessing import StandardScaler\n",
    "from sklearn.metrics import silhouette_score\n",
    "\n",
    "from sklearn.cluster import DBSCAN\n",
    "\n",
    "from datetime import time\n",
    "import warnings \n",
    "warnings.filterwarnings(\"ignore\") \n",
    "\n",
    "%matplotlib inline"
   ]
  },
  {
   "cell_type": "markdown",
   "metadata": {},
   "source": [
    "## Reading the data"
   ]
  },
  {
   "cell_type": "code",
   "execution_count": 2,
   "metadata": {},
   "outputs": [],
   "source": [
    "df = pd.read_csv('./data/df_db.csv')"
   ]
  },
  {
   "cell_type": "code",
   "execution_count": 3,
   "metadata": {},
   "outputs": [
    {
     "data": {
      "text/html": [
       "<div>\n",
       "<style scoped>\n",
       "    .dataframe tbody tr th:only-of-type {\n",
       "        vertical-align: middle;\n",
       "    }\n",
       "\n",
       "    .dataframe tbody tr th {\n",
       "        vertical-align: top;\n",
       "    }\n",
       "\n",
       "    .dataframe thead th {\n",
       "        text-align: right;\n",
       "    }\n",
       "</style>\n",
       "<table border=\"1\" class=\"dataframe\">\n",
       "  <thead>\n",
       "    <tr style=\"text-align: right;\">\n",
       "      <th></th>\n",
       "      <th>coord</th>\n",
       "      <th>day</th>\n",
       "      <th>delay</th>\n",
       "      <th>description</th>\n",
       "      <th>end_date</th>\n",
       "      <th>from</th>\n",
       "      <th>geometry</th>\n",
       "      <th>hour</th>\n",
       "      <th>id</th>\n",
       "      <th>latitude</th>\n",
       "      <th>length</th>\n",
       "      <th>longitude</th>\n",
       "      <th>to</th>\n",
       "    </tr>\n",
       "  </thead>\n",
       "  <tbody>\n",
       "    <tr>\n",
       "      <td>0</td>\n",
       "      <td>{'x': -73.9743662, 'y': 40.7783631}</td>\n",
       "      <td>Tuesday</td>\n",
       "      <td>0</td>\n",
       "      <td>4</td>\n",
       "      <td>2020-02-25 05:43:59+00:00</td>\n",
       "      <td>Central Park W</td>\n",
       "      <td>POINT (-73.97436620000001 40.7783631)</td>\n",
       "      <td>5.0</td>\n",
       "      <td>TTR5158489041614001</td>\n",
       "      <td>40.778363</td>\n",
       "      <td>272</td>\n",
       "      <td>-73.974366</td>\n",
       "      <td>Broadway</td>\n",
       "    </tr>\n",
       "    <tr>\n",
       "      <td>1</td>\n",
       "      <td>{'x': -73.9803143, 'y': 40.7544967}</td>\n",
       "      <td>Thursday</td>\n",
       "      <td>1</td>\n",
       "      <td>2</td>\n",
       "      <td>2020-02-13 17:41:00+00:00</td>\n",
       "      <td>5th Ave (50th St)</td>\n",
       "      <td>POINT (-73.9803143 40.7544967)</td>\n",
       "      <td>17.0</td>\n",
       "      <td>TTL5159643158406005</td>\n",
       "      <td>40.754497</td>\n",
       "      <td>299</td>\n",
       "      <td>-73.980314</td>\n",
       "      <td>Park Ave (E 50th St)</td>\n",
       "    </tr>\n",
       "    <tr>\n",
       "      <td>2</td>\n",
       "      <td>{'x': -73.9851146, 'y': 40.7730232}</td>\n",
       "      <td>Thursday</td>\n",
       "      <td>1</td>\n",
       "      <td>2</td>\n",
       "      <td>2020-02-13 17:41:00+00:00</td>\n",
       "      <td>Broadway</td>\n",
       "      <td>POINT (-73.9851146 40.7730232)</td>\n",
       "      <td>17.0</td>\n",
       "      <td>TTL5157911932806006</td>\n",
       "      <td>40.773023</td>\n",
       "      <td>487</td>\n",
       "      <td>-73.985115</td>\n",
       "      <td>Central Park W</td>\n",
       "    </tr>\n",
       "    <tr>\n",
       "      <td>3</td>\n",
       "      <td>{'x': -73.985892, 'y': 40.7671613}</td>\n",
       "      <td>Tuesday</td>\n",
       "      <td>0</td>\n",
       "      <td>4</td>\n",
       "      <td>2020-03-31 04:43:59+00:00</td>\n",
       "      <td>W 57th St (7th Ave)</td>\n",
       "      <td>POINT (-73.98589200000001 40.7671613)</td>\n",
       "      <td>4.0</td>\n",
       "      <td>TTR5159066100004001</td>\n",
       "      <td>40.767161</td>\n",
       "      <td>78</td>\n",
       "      <td>-73.985892</td>\n",
       "      <td>W 50th St (7th Ave)</td>\n",
       "    </tr>\n",
       "    <tr>\n",
       "      <td>4</td>\n",
       "      <td>{'x': -73.9823474, 'y': 40.7537168}</td>\n",
       "      <td>Thursday</td>\n",
       "      <td>1</td>\n",
       "      <td>2</td>\n",
       "      <td>2020-02-13 17:41:00+00:00</td>\n",
       "      <td>6th Ave/Avenue of the Americas (W 48th St)</td>\n",
       "      <td>POINT (-73.98234739999999 40.7537168)</td>\n",
       "      <td>17.0</td>\n",
       "      <td>TTL5159643158406004</td>\n",
       "      <td>40.753717</td>\n",
       "      <td>421</td>\n",
       "      <td>-73.982347</td>\n",
       "      <td>Park Ave (E 48th St)</td>\n",
       "    </tr>\n",
       "  </tbody>\n",
       "</table>\n",
       "</div>"
      ],
      "text/plain": [
       "                                 coord       day  delay  description  \\\n",
       "0  {'x': -73.9743662, 'y': 40.7783631}   Tuesday      0            4   \n",
       "1  {'x': -73.9803143, 'y': 40.7544967}  Thursday      1            2   \n",
       "2  {'x': -73.9851146, 'y': 40.7730232}  Thursday      1            2   \n",
       "3   {'x': -73.985892, 'y': 40.7671613}   Tuesday      0            4   \n",
       "4  {'x': -73.9823474, 'y': 40.7537168}  Thursday      1            2   \n",
       "\n",
       "                    end_date                                        from  \\\n",
       "0  2020-02-25 05:43:59+00:00                              Central Park W   \n",
       "1  2020-02-13 17:41:00+00:00                           5th Ave (50th St)   \n",
       "2  2020-02-13 17:41:00+00:00                                    Broadway   \n",
       "3  2020-03-31 04:43:59+00:00                         W 57th St (7th Ave)   \n",
       "4  2020-02-13 17:41:00+00:00  6th Ave/Avenue of the Americas (W 48th St)   \n",
       "\n",
       "                                geometry  hour                   id  \\\n",
       "0  POINT (-73.97436620000001 40.7783631)   5.0  TTR5158489041614001   \n",
       "1         POINT (-73.9803143 40.7544967)  17.0  TTL5159643158406005   \n",
       "2         POINT (-73.9851146 40.7730232)  17.0  TTL5157911932806006   \n",
       "3  POINT (-73.98589200000001 40.7671613)   4.0  TTR5159066100004001   \n",
       "4  POINT (-73.98234739999999 40.7537168)  17.0  TTL5159643158406004   \n",
       "\n",
       "    latitude  length  longitude                    to  \n",
       "0  40.778363     272 -73.974366              Broadway  \n",
       "1  40.754497     299 -73.980314  Park Ave (E 50th St)  \n",
       "2  40.773023     487 -73.985115        Central Park W  \n",
       "3  40.767161      78 -73.985892   W 50th St (7th Ave)  \n",
       "4  40.753717     421 -73.982347  Park Ave (E 48th St)  "
      ]
     },
     "execution_count": 3,
     "metadata": {},
     "output_type": "execute_result"
    }
   ],
   "source": [
    "df.head()"
   ]
  },
  {
   "cell_type": "markdown",
   "metadata": {},
   "source": [
    "## Some basic Cleaning ( EDA is done in another notebook)"
   ]
  },
  {
   "cell_type": "code",
   "execution_count": 4,
   "metadata": {},
   "outputs": [
    {
     "data": {
      "text/plain": [
       "(1247, 13)"
      ]
     },
     "execution_count": 4,
     "metadata": {},
     "output_type": "execute_result"
    }
   ],
   "source": [
    "df.shape"
   ]
  },
  {
   "cell_type": "code",
   "execution_count": 5,
   "metadata": {},
   "outputs": [],
   "source": [
    "df.dropna(inplace=True)"
   ]
  },
  {
   "cell_type": "code",
   "execution_count": 6,
   "metadata": {},
   "outputs": [
    {
     "data": {
      "text/plain": [
       "18"
      ]
     },
     "execution_count": 6,
     "metadata": {},
     "output_type": "execute_result"
    }
   ],
   "source": [
    "df.duplicated().sum()"
   ]
  },
  {
   "cell_type": "code",
   "execution_count": 7,
   "metadata": {},
   "outputs": [],
   "source": [
    "df = df.drop_duplicates(keep = 'first')"
   ]
  },
  {
   "cell_type": "code",
   "execution_count": 8,
   "metadata": {},
   "outputs": [
    {
     "data": {
      "text/plain": [
       "(1229, 13)"
      ]
     },
     "execution_count": 8,
     "metadata": {},
     "output_type": "execute_result"
    }
   ],
   "source": [
    "df.shape"
   ]
  },
  {
   "cell_type": "code",
   "execution_count": 9,
   "metadata": {},
   "outputs": [
    {
     "data": {
      "text/plain": [
       "coord          0\n",
       "day            0\n",
       "delay          0\n",
       "description    0\n",
       "end_date       0\n",
       "from           0\n",
       "geometry       0\n",
       "hour           0\n",
       "id             0\n",
       "latitude       0\n",
       "length         0\n",
       "longitude      0\n",
       "to             0\n",
       "dtype: int64"
      ]
     },
     "execution_count": 9,
     "metadata": {},
     "output_type": "execute_result"
    }
   ],
   "source": [
    "df.isnull().sum()"
   ]
  },
  {
   "cell_type": "markdown",
   "metadata": {},
   "source": [
    "### Saving the cleaned data as a csv"
   ]
  },
  {
   "cell_type": "code",
   "execution_count": 10,
   "metadata": {},
   "outputs": [],
   "source": [
    "df.to_csv('./data/df.csv', index = False)"
   ]
  },
  {
   "cell_type": "markdown",
   "metadata": {},
   "source": [
    "Setting the variable 'description' as numbers to reflect the severity of the traffic condition. There are 11 broad categories, which included one lane closed, two lanes closed, left lane closed, right lane closed, slow traffic, maintenance work, accident, queuing traffic, stationary traffic, roadworks, construction work, major event, "
   ]
  },
  {
   "cell_type": "code",
   "execution_count": 11,
   "metadata": {},
   "outputs": [
    {
     "data": {
      "text/plain": [
       "array([ 4,  2,  5,  1,  3,  9, 12,  6,  8, 13, 10,  7, 14, 15, 11])"
      ]
     },
     "execution_count": 11,
     "metadata": {},
     "output_type": "execute_result"
    }
   ],
   "source": [
    "df['description'].unique()"
   ]
  },
  {
   "cell_type": "code",
   "execution_count": 12,
   "metadata": {},
   "outputs": [],
   "source": [
    "df['description'] = df['description'].map({'roadworks':4, 'slow traffic':2, 'closed':5, 'one lane closed':1,\n",
    "       'queuing traffic':3, 'stationary traffic':9, 'major roadworks':12,\n",
    "       'right lane closed':6, 'lane closed':8, 'construction work':13,\n",
    "       'maintenance work':10, 'left lane closed':7, 'accident':14, 'major event':15,\n",
    "       'two lanes closed':11})"
   ]
  },
  {
   "cell_type": "code",
   "execution_count": 13,
   "metadata": {},
   "outputs": [
    {
     "data": {
      "text/html": [
       "<div>\n",
       "<style scoped>\n",
       "    .dataframe tbody tr th:only-of-type {\n",
       "        vertical-align: middle;\n",
       "    }\n",
       "\n",
       "    .dataframe tbody tr th {\n",
       "        vertical-align: top;\n",
       "    }\n",
       "\n",
       "    .dataframe thead th {\n",
       "        text-align: right;\n",
       "    }\n",
       "</style>\n",
       "<table border=\"1\" class=\"dataframe\">\n",
       "  <thead>\n",
       "    <tr style=\"text-align: right;\">\n",
       "      <th></th>\n",
       "      <th>coord</th>\n",
       "      <th>day</th>\n",
       "      <th>delay</th>\n",
       "      <th>description</th>\n",
       "      <th>end_date</th>\n",
       "      <th>from</th>\n",
       "      <th>geometry</th>\n",
       "      <th>hour</th>\n",
       "      <th>id</th>\n",
       "      <th>latitude</th>\n",
       "      <th>length</th>\n",
       "      <th>longitude</th>\n",
       "      <th>to</th>\n",
       "    </tr>\n",
       "  </thead>\n",
       "  <tbody>\n",
       "    <tr>\n",
       "      <td>0</td>\n",
       "      <td>{'x': -73.9743662, 'y': 40.7783631}</td>\n",
       "      <td>Tuesday</td>\n",
       "      <td>0</td>\n",
       "      <td>NaN</td>\n",
       "      <td>2020-02-25 05:43:59+00:00</td>\n",
       "      <td>Central Park W</td>\n",
       "      <td>POINT (-73.97436620000001 40.7783631)</td>\n",
       "      <td>5.0</td>\n",
       "      <td>TTR5158489041614001</td>\n",
       "      <td>40.778363</td>\n",
       "      <td>272</td>\n",
       "      <td>-73.974366</td>\n",
       "      <td>Broadway</td>\n",
       "    </tr>\n",
       "    <tr>\n",
       "      <td>1</td>\n",
       "      <td>{'x': -73.9803143, 'y': 40.7544967}</td>\n",
       "      <td>Thursday</td>\n",
       "      <td>1</td>\n",
       "      <td>NaN</td>\n",
       "      <td>2020-02-13 17:41:00+00:00</td>\n",
       "      <td>5th Ave (50th St)</td>\n",
       "      <td>POINT (-73.9803143 40.7544967)</td>\n",
       "      <td>17.0</td>\n",
       "      <td>TTL5159643158406005</td>\n",
       "      <td>40.754497</td>\n",
       "      <td>299</td>\n",
       "      <td>-73.980314</td>\n",
       "      <td>Park Ave (E 50th St)</td>\n",
       "    </tr>\n",
       "    <tr>\n",
       "      <td>2</td>\n",
       "      <td>{'x': -73.9851146, 'y': 40.7730232}</td>\n",
       "      <td>Thursday</td>\n",
       "      <td>1</td>\n",
       "      <td>NaN</td>\n",
       "      <td>2020-02-13 17:41:00+00:00</td>\n",
       "      <td>Broadway</td>\n",
       "      <td>POINT (-73.9851146 40.7730232)</td>\n",
       "      <td>17.0</td>\n",
       "      <td>TTL5157911932806006</td>\n",
       "      <td>40.773023</td>\n",
       "      <td>487</td>\n",
       "      <td>-73.985115</td>\n",
       "      <td>Central Park W</td>\n",
       "    </tr>\n",
       "    <tr>\n",
       "      <td>3</td>\n",
       "      <td>{'x': -73.985892, 'y': 40.7671613}</td>\n",
       "      <td>Tuesday</td>\n",
       "      <td>0</td>\n",
       "      <td>NaN</td>\n",
       "      <td>2020-03-31 04:43:59+00:00</td>\n",
       "      <td>W 57th St (7th Ave)</td>\n",
       "      <td>POINT (-73.98589200000001 40.7671613)</td>\n",
       "      <td>4.0</td>\n",
       "      <td>TTR5159066100004001</td>\n",
       "      <td>40.767161</td>\n",
       "      <td>78</td>\n",
       "      <td>-73.985892</td>\n",
       "      <td>W 50th St (7th Ave)</td>\n",
       "    </tr>\n",
       "    <tr>\n",
       "      <td>4</td>\n",
       "      <td>{'x': -73.9823474, 'y': 40.7537168}</td>\n",
       "      <td>Thursday</td>\n",
       "      <td>1</td>\n",
       "      <td>NaN</td>\n",
       "      <td>2020-02-13 17:41:00+00:00</td>\n",
       "      <td>6th Ave/Avenue of the Americas (W 48th St)</td>\n",
       "      <td>POINT (-73.98234739999999 40.7537168)</td>\n",
       "      <td>17.0</td>\n",
       "      <td>TTL5159643158406004</td>\n",
       "      <td>40.753717</td>\n",
       "      <td>421</td>\n",
       "      <td>-73.982347</td>\n",
       "      <td>Park Ave (E 48th St)</td>\n",
       "    </tr>\n",
       "  </tbody>\n",
       "</table>\n",
       "</div>"
      ],
      "text/plain": [
       "                                 coord       day  delay  description  \\\n",
       "0  {'x': -73.9743662, 'y': 40.7783631}   Tuesday      0          NaN   \n",
       "1  {'x': -73.9803143, 'y': 40.7544967}  Thursday      1          NaN   \n",
       "2  {'x': -73.9851146, 'y': 40.7730232}  Thursday      1          NaN   \n",
       "3   {'x': -73.985892, 'y': 40.7671613}   Tuesday      0          NaN   \n",
       "4  {'x': -73.9823474, 'y': 40.7537168}  Thursday      1          NaN   \n",
       "\n",
       "                    end_date                                        from  \\\n",
       "0  2020-02-25 05:43:59+00:00                              Central Park W   \n",
       "1  2020-02-13 17:41:00+00:00                           5th Ave (50th St)   \n",
       "2  2020-02-13 17:41:00+00:00                                    Broadway   \n",
       "3  2020-03-31 04:43:59+00:00                         W 57th St (7th Ave)   \n",
       "4  2020-02-13 17:41:00+00:00  6th Ave/Avenue of the Americas (W 48th St)   \n",
       "\n",
       "                                geometry  hour                   id  \\\n",
       "0  POINT (-73.97436620000001 40.7783631)   5.0  TTR5158489041614001   \n",
       "1         POINT (-73.9803143 40.7544967)  17.0  TTL5159643158406005   \n",
       "2         POINT (-73.9851146 40.7730232)  17.0  TTL5157911932806006   \n",
       "3  POINT (-73.98589200000001 40.7671613)   4.0  TTR5159066100004001   \n",
       "4  POINT (-73.98234739999999 40.7537168)  17.0  TTL5159643158406004   \n",
       "\n",
       "    latitude  length  longitude                    to  \n",
       "0  40.778363     272 -73.974366              Broadway  \n",
       "1  40.754497     299 -73.980314  Park Ave (E 50th St)  \n",
       "2  40.773023     487 -73.985115        Central Park W  \n",
       "3  40.767161      78 -73.985892   W 50th St (7th Ave)  \n",
       "4  40.753717     421 -73.982347  Park Ave (E 48th St)  "
      ]
     },
     "execution_count": 13,
     "metadata": {},
     "output_type": "execute_result"
    }
   ],
   "source": [
    "df.head()"
   ]
  },
  {
   "cell_type": "markdown",
   "metadata": {},
   "source": [
    "# Modeling"
   ]
  },
  {
   "cell_type": "markdown",
   "metadata": {},
   "source": [
    "### Setting up the variables for DBScan\n",
    "We decided to use the latitude and longitude of road incidents as inputs for our clustering model"
   ]
  },
  {
   "cell_type": "code",
   "execution_count": 14,
   "metadata": {},
   "outputs": [],
   "source": [
    "df_db = df[['latitude', 'longitude']]"
   ]
  },
  {
   "cell_type": "code",
   "execution_count": 15,
   "metadata": {},
   "outputs": [
    {
     "data": {
      "text/html": [
       "<div>\n",
       "<style scoped>\n",
       "    .dataframe tbody tr th:only-of-type {\n",
       "        vertical-align: middle;\n",
       "    }\n",
       "\n",
       "    .dataframe tbody tr th {\n",
       "        vertical-align: top;\n",
       "    }\n",
       "\n",
       "    .dataframe thead th {\n",
       "        text-align: right;\n",
       "    }\n",
       "</style>\n",
       "<table border=\"1\" class=\"dataframe\">\n",
       "  <thead>\n",
       "    <tr style=\"text-align: right;\">\n",
       "      <th></th>\n",
       "      <th>latitude</th>\n",
       "      <th>longitude</th>\n",
       "    </tr>\n",
       "  </thead>\n",
       "  <tbody>\n",
       "    <tr>\n",
       "      <td>0</td>\n",
       "      <td>40.778363</td>\n",
       "      <td>-73.974366</td>\n",
       "    </tr>\n",
       "    <tr>\n",
       "      <td>1</td>\n",
       "      <td>40.754497</td>\n",
       "      <td>-73.980314</td>\n",
       "    </tr>\n",
       "    <tr>\n",
       "      <td>2</td>\n",
       "      <td>40.773023</td>\n",
       "      <td>-73.985115</td>\n",
       "    </tr>\n",
       "    <tr>\n",
       "      <td>3</td>\n",
       "      <td>40.767161</td>\n",
       "      <td>-73.985892</td>\n",
       "    </tr>\n",
       "    <tr>\n",
       "      <td>4</td>\n",
       "      <td>40.753717</td>\n",
       "      <td>-73.982347</td>\n",
       "    </tr>\n",
       "    <tr>\n",
       "      <td>...</td>\n",
       "      <td>...</td>\n",
       "      <td>...</td>\n",
       "    </tr>\n",
       "    <tr>\n",
       "      <td>1242</td>\n",
       "      <td>40.736326</td>\n",
       "      <td>-73.895931</td>\n",
       "    </tr>\n",
       "    <tr>\n",
       "      <td>1243</td>\n",
       "      <td>40.742871</td>\n",
       "      <td>-73.904979</td>\n",
       "    </tr>\n",
       "    <tr>\n",
       "      <td>1244</td>\n",
       "      <td>40.743519</td>\n",
       "      <td>-73.904130</td>\n",
       "    </tr>\n",
       "    <tr>\n",
       "      <td>1245</td>\n",
       "      <td>40.742552</td>\n",
       "      <td>-73.901837</td>\n",
       "    </tr>\n",
       "    <tr>\n",
       "      <td>1246</td>\n",
       "      <td>40.746092</td>\n",
       "      <td>-73.901581</td>\n",
       "    </tr>\n",
       "  </tbody>\n",
       "</table>\n",
       "<p>1229 rows × 2 columns</p>\n",
       "</div>"
      ],
      "text/plain": [
       "       latitude  longitude\n",
       "0     40.778363 -73.974366\n",
       "1     40.754497 -73.980314\n",
       "2     40.773023 -73.985115\n",
       "3     40.767161 -73.985892\n",
       "4     40.753717 -73.982347\n",
       "...         ...        ...\n",
       "1242  40.736326 -73.895931\n",
       "1243  40.742871 -73.904979\n",
       "1244  40.743519 -73.904130\n",
       "1245  40.742552 -73.901837\n",
       "1246  40.746092 -73.901581\n",
       "\n",
       "[1229 rows x 2 columns]"
      ]
     },
     "execution_count": 15,
     "metadata": {},
     "output_type": "execute_result"
    }
   ],
   "source": [
    "df_db"
   ]
  },
  {
   "cell_type": "markdown",
   "metadata": {},
   "source": [
    "### Scaling the variables and fitting/transforming the model"
   ]
  },
  {
   "cell_type": "code",
   "execution_count": 16,
   "metadata": {},
   "outputs": [],
   "source": [
    "ss = StandardScaler()\n",
    "X_scaled_live = ss.fit_transform(df_db)"
   ]
  },
  {
   "cell_type": "markdown",
   "metadata": {},
   "source": [
    "We tried different values for the eps and minimum samples to get the best value counts for the clusters and minimizing the outliers. We also tried to get the best value for the Silhouette Score as well. The DBScan is an unsupervised clustering algorithm so cannot be evaluated using a metric. The silhouette score is a pseudo metric to gauge the accuracy of the model. "
   ]
  },
  {
   "cell_type": "code",
   "execution_count": 17,
   "metadata": {},
   "outputs": [
    {
     "data": {
      "text/plain": [
       "DBSCAN(algorithm='auto', eps=0.3, leaf_size=30, metric='euclidean',\n",
       "       metric_params=None, min_samples=9, n_jobs=None, p=None)"
      ]
     },
     "execution_count": 17,
     "metadata": {},
     "output_type": "execute_result"
    }
   ],
   "source": [
    "dbscan = DBSCAN(eps = 0.3, min_samples=9)\n",
    "dbscan.fit(X_scaled_live)"
   ]
  },
  {
   "cell_type": "code",
   "execution_count": 18,
   "metadata": {},
   "outputs": [
    {
     "data": {
      "text/plain": [
       "{-1, 0, 1, 2, 3, 4}"
      ]
     },
     "execution_count": 18,
     "metadata": {},
     "output_type": "execute_result"
    }
   ],
   "source": [
    "set(dbscan.labels_)"
   ]
  },
  {
   "cell_type": "markdown",
   "metadata": {},
   "source": [
    "## Model Evaluation:"
   ]
  },
  {
   "cell_type": "markdown",
   "metadata": {},
   "source": [
    "Even though there is no true way to evaluate the model, we still used pseudo metrics for our evaluation purposes.\n",
    "\n",
    "\n",
    "- **Inertia** - is the sum of squared error for each cluster and assumes the clusters are convex. Therefore the smaller the inertia the denser the cluster.\n",
    "\n",
    "- **Silhouette Score** -  is  gauged from -1 to 1. It is calculated utilizing the mean intra-cluster distance between point and the mean nearest-cluster distance. We chose this one because it is a better measurement for the relationship between our clusters.\n",
    "\n",
    "- **Since the model is being used as visual aid a silhouette score of .40 will suffice.**"
   ]
  },
  {
   "cell_type": "code",
   "execution_count": 19,
   "metadata": {},
   "outputs": [
    {
     "data": {
      "text/plain": [
       "0.4060784077197917"
      ]
     },
     "execution_count": 19,
     "metadata": {},
     "output_type": "execute_result"
    }
   ],
   "source": [
    "silhouette_score(X_scaled_live, dbscan.labels_)"
   ]
  },
  {
   "cell_type": "code",
   "execution_count": 20,
   "metadata": {},
   "outputs": [],
   "source": [
    "df_db['cluster'] = dbscan.labels_"
   ]
  },
  {
   "cell_type": "code",
   "execution_count": 21,
   "metadata": {
    "scrolled": false
   },
   "outputs": [
    {
     "data": {
      "image/png": "[encoded data removed]",
      "text/plain": [
       "<Figure size 586x540 with 12 Axes>"
      ]
     },
     "metadata": {
      "needs_background": "light"
     },
     "output_type": "display_data"
    }
   ],
   "source": [
    "sns.pairplot(df_db, hue ='cluster');"
   ]
  },
  {
   "cell_type": "markdown",
   "metadata": {},
   "source": [
    "Looking at the percentages of our data in each cluster."
   ]
  },
  {
   "cell_type": "code",
   "execution_count": 22,
   "metadata": {},
   "outputs": [
    {
     "data": {
      "text/plain": [
       " 0    0.737185\n",
       " 3    0.093572\n",
       "-1    0.073230\n",
       " 4    0.058584\n",
       " 2    0.022783\n",
       " 1    0.014646\n",
       "Name: cluster, dtype: float64"
      ]
     },
     "execution_count": 22,
     "metadata": {},
     "output_type": "execute_result"
    }
   ],
   "source": [
    "df_db['cluster'].value_counts(normalize = True)"
   ]
  },
  {
   "cell_type": "markdown",
   "metadata": {},
   "source": [
    "# Conclusion\n",
    "The DBScan Clustering Algorithm does a decent job of clustering the traffic incident areas. Since it is an Unsupervised Model and it is being utilized for visual purposes only, a Silhouette score of 0.40 will suffice. Therefore, we are satisfied with our final model."
   ]
  },
  {
   "cell_type": "code",
   "execution_count": null,
   "metadata": {},
   "outputs": [],
   "source": []
  }
 ],
 "metadata": {
  "kernelspec": {
   "display_name": "Python 3",
   "language": "python",
   "name": "python3"
  },
  "language_info": {
   "codemirror_mode": {
    "name": "ipython",
    "version": 3
   },
   "file_extension": ".py",
   "mimetype": "text/x-python",
   "name": "python",
   "nbconvert_exporter": "python",
   "pygments_lexer": "ipython3",
   "version": "3.7.4"
  },
  "toc": {
   "base_numbering": 1,
   "nav_menu": {},
   "number_sections": false,
   "sideBar": true,
   "skip_h1_title": false,
   "title_cell": "Table of Contents",
   "title_sidebar": "Contents",
   "toc_cell": true,
   "toc_position": {
    "height": "calc(100% - 180px)",
    "left": "10px",
    "top": "150px",
    "width": "287.188px"
   },
   "toc_section_display": true,
   "toc_window_display": true
  }
 },
 "nbformat": 4,
 "nbformat_minor": 2
}
