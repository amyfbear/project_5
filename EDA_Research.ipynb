{
 "cells": [
  {
   "cell_type": "markdown",
   "metadata": {
    "toc": true
   },
   "source": [
    "<h1>Table of Contents<span class=\"tocSkip\"></span></h1>\n",
    "<div class=\"toc\"><ul class=\"toc-item\"><li><span><a href=\"#Outside-Research---Exploring-NYC-Open-Data\" data-toc-modified-id=\"Outside-Research---Exploring-NYC-Open-Data-1\"><span class=\"toc-item-num\">1&nbsp;&nbsp;</span>Outside Research - Exploring NYC Open Data</a></span><ul class=\"toc-item\"><li><span><a href=\"#Importing-libaries-and-data\" data-toc-modified-id=\"Importing-libaries-and-data-1.1\"><span class=\"toc-item-num\">1.1&nbsp;&nbsp;</span>Importing libaries and data</a></span></li><li><span><a href=\"#Data-Cleaning\" data-toc-modified-id=\"Data-Cleaning-1.2\"><span class=\"toc-item-num\">1.2&nbsp;&nbsp;</span>Data Cleaning</a></span></li><li><span><a href=\"#Observing-accidents-by-date-and-time\" data-toc-modified-id=\"Observing-accidents-by-date-and-time-1.3\"><span class=\"toc-item-num\">1.3&nbsp;&nbsp;</span>Observing accidents by date and time</a></span></li><li><span><a href=\"#Examining-number-of-accidents-by-borough\" data-toc-modified-id=\"Examining-number-of-accidents-by-borough-1.4\"><span class=\"toc-item-num\">1.4&nbsp;&nbsp;</span>Examining number of accidents by borough</a></span></li></ul></li><li><span><a href=\"#EDA---Exploring-the-TomTom-Data\" data-toc-modified-id=\"EDA---Exploring-the-TomTom-Data-2\"><span class=\"toc-item-num\">2&nbsp;&nbsp;</span>EDA - Exploring the TomTom Data</a></span><ul class=\"toc-item\"><li><span><a href=\"#Importing-TomTom-data\" data-toc-modified-id=\"Importing-TomTom-data-2.1\"><span class=\"toc-item-num\">2.1&nbsp;&nbsp;</span>Importing TomTom data</a></span></li><li><span><a href=\"#Data-cleaning\" data-toc-modified-id=\"Data-cleaning-2.2\"><span class=\"toc-item-num\">2.2&nbsp;&nbsp;</span>Data cleaning</a></span></li><li><span><a href=\"#Separating-coordinates\" data-toc-modified-id=\"Separating-coordinates-2.3\"><span class=\"toc-item-num\">2.3&nbsp;&nbsp;</span>Separating coordinates</a></span></li><li><span><a href=\"#Observing-common-types-of-incidents\" data-toc-modified-id=\"Observing-common-types-of-incidents-2.4\"><span class=\"toc-item-num\">2.4&nbsp;&nbsp;</span>Observing common types of incidents</a></span></li><li><span><a href=\"#Observing-accidents-by-date-and-time\" data-toc-modified-id=\"Observing-accidents-by-date-and-time-2.5\"><span class=\"toc-item-num\">2.5&nbsp;&nbsp;</span>Observing accidents by date and time</a></span></li></ul></li><li><span><a href=\"#Conclusion\" data-toc-modified-id=\"Conclusion-3\"><span class=\"toc-item-num\">3&nbsp;&nbsp;</span>Conclusion</a></span></li></ul></div>"
   ]
  },
  {
   "cell_type": "markdown",
   "metadata": {},
   "source": [
    "# Outside Research - Exploring NYC Open Data"
   ]
  },
  {
   "cell_type": "markdown",
   "metadata": {},
   "source": [
    "## Importing libaries and data"
   ]
  },
  {
   "cell_type": "code",
   "execution_count": 2,
   "metadata": {},
   "outputs": [],
   "source": [
    "import pandas as pd\n",
    "import numpy as np\n",
    "import matplotlib.pyplot as plt\n",
    "import seaborn as sns\n",
    "from seaborn import color_palette\n",
    "%matplotlib inline\n",
    "df = pd.read_csv('./data/collisions.csv')"
   ]
  },
  {
   "cell_type": "markdown",
   "metadata": {},
   "source": [
    "## Data Cleaning"
   ]
  },
  {
   "cell_type": "code",
   "execution_count": 3,
   "metadata": {},
   "outputs": [
    {
     "data": {
      "text/html": [
       "<div>\n",
       "<style scoped>\n",
       "    .dataframe tbody tr th:only-of-type {\n",
       "        vertical-align: middle;\n",
       "    }\n",
       "\n",
       "    .dataframe tbody tr th {\n",
       "        vertical-align: top;\n",
       "    }\n",
       "\n",
       "    .dataframe thead th {\n",
       "        text-align: right;\n",
       "    }\n",
       "</style>\n",
       "<table border=\"1\" class=\"dataframe\">\n",
       "  <thead>\n",
       "    <tr style=\"text-align: right;\">\n",
       "      <th></th>\n",
       "      <th>CRASH DATE</th>\n",
       "      <th>CRASH TIME</th>\n",
       "      <th>BOROUGH</th>\n",
       "      <th>ZIP CODE</th>\n",
       "      <th>LATITUDE</th>\n",
       "      <th>LONGITUDE</th>\n",
       "      <th>LOCATION</th>\n",
       "      <th>ON STREET NAME</th>\n",
       "      <th>CROSS STREET NAME</th>\n",
       "      <th>OFF STREET NAME</th>\n",
       "      <th>...</th>\n",
       "      <th>CONTRIBUTING FACTOR VEHICLE 2</th>\n",
       "      <th>CONTRIBUTING FACTOR VEHICLE 3</th>\n",
       "      <th>CONTRIBUTING FACTOR VEHICLE 4</th>\n",
       "      <th>CONTRIBUTING FACTOR VEHICLE 5</th>\n",
       "      <th>COLLISION_ID</th>\n",
       "      <th>VEHICLE TYPE CODE 1</th>\n",
       "      <th>VEHICLE TYPE CODE 2</th>\n",
       "      <th>VEHICLE TYPE CODE 3</th>\n",
       "      <th>VEHICLE TYPE CODE 4</th>\n",
       "      <th>VEHICLE TYPE CODE 5</th>\n",
       "    </tr>\n",
       "  </thead>\n",
       "  <tbody>\n",
       "    <tr>\n",
       "      <th>0</th>\n",
       "      <td>2020-02-10</td>\n",
       "      <td>7:00</td>\n",
       "      <td>NaN</td>\n",
       "      <td>NaN</td>\n",
       "      <td>40.811030</td>\n",
       "      <td>-73.921490</td>\n",
       "      <td>POINT (-73.92149 40.81103)</td>\n",
       "      <td>EAST 141 STREET</td>\n",
       "      <td>NaN</td>\n",
       "      <td>NaN</td>\n",
       "      <td>...</td>\n",
       "      <td>Unspecified</td>\n",
       "      <td>NaN</td>\n",
       "      <td>NaN</td>\n",
       "      <td>NaN</td>\n",
       "      <td>4286591</td>\n",
       "      <td>Sedan</td>\n",
       "      <td>Station Wagon/Sport Utility Vehicle</td>\n",
       "      <td>NaN</td>\n",
       "      <td>NaN</td>\n",
       "      <td>NaN</td>\n",
       "    </tr>\n",
       "    <tr>\n",
       "      <th>1</th>\n",
       "      <td>2020-02-10</td>\n",
       "      <td>19:55</td>\n",
       "      <td>BROOKLYN</td>\n",
       "      <td>11216.0</td>\n",
       "      <td>40.679634</td>\n",
       "      <td>-73.949590</td>\n",
       "      <td>POINT (-73.94959 40.679634)</td>\n",
       "      <td>NOSTRAND AVENUE</td>\n",
       "      <td>HERKIMER STREET</td>\n",
       "      <td>NaN</td>\n",
       "      <td>...</td>\n",
       "      <td>NaN</td>\n",
       "      <td>NaN</td>\n",
       "      <td>NaN</td>\n",
       "      <td>NaN</td>\n",
       "      <td>4287283</td>\n",
       "      <td>Sedan</td>\n",
       "      <td>NaN</td>\n",
       "      <td>NaN</td>\n",
       "      <td>NaN</td>\n",
       "      <td>NaN</td>\n",
       "    </tr>\n",
       "    <tr>\n",
       "      <th>2</th>\n",
       "      <td>2020-02-10</td>\n",
       "      <td>10:50</td>\n",
       "      <td>QUEENS</td>\n",
       "      <td>11355.0</td>\n",
       "      <td>40.755390</td>\n",
       "      <td>-73.828285</td>\n",
       "      <td>POINT (-73.828285 40.75539)</td>\n",
       "      <td>MAIN STREET</td>\n",
       "      <td>MAPLE AVENUE</td>\n",
       "      <td>NaN</td>\n",
       "      <td>...</td>\n",
       "      <td>Passing or Lane Usage Improper</td>\n",
       "      <td>NaN</td>\n",
       "      <td>NaN</td>\n",
       "      <td>NaN</td>\n",
       "      <td>4286357</td>\n",
       "      <td>Station Wagon/Sport Utility Vehicle</td>\n",
       "      <td>Station Wagon/Sport Utility Vehicle</td>\n",
       "      <td>NaN</td>\n",
       "      <td>NaN</td>\n",
       "      <td>NaN</td>\n",
       "    </tr>\n",
       "    <tr>\n",
       "      <th>3</th>\n",
       "      <td>2020-02-10</td>\n",
       "      <td>7:48</td>\n",
       "      <td>STATEN ISLAND</td>\n",
       "      <td>10305.0</td>\n",
       "      <td>40.600180</td>\n",
       "      <td>-74.064644</td>\n",
       "      <td>POINT (-74.064644 40.60018)</td>\n",
       "      <td>LILY POND AVENUE</td>\n",
       "      <td>MAJOR AVENUE</td>\n",
       "      <td>NaN</td>\n",
       "      <td>...</td>\n",
       "      <td>Unspecified</td>\n",
       "      <td>NaN</td>\n",
       "      <td>NaN</td>\n",
       "      <td>NaN</td>\n",
       "      <td>4286350</td>\n",
       "      <td>Sedan</td>\n",
       "      <td>NaN</td>\n",
       "      <td>NaN</td>\n",
       "      <td>NaN</td>\n",
       "      <td>NaN</td>\n",
       "    </tr>\n",
       "    <tr>\n",
       "      <th>4</th>\n",
       "      <td>2020-02-10</td>\n",
       "      <td>15:00</td>\n",
       "      <td>BRONX</td>\n",
       "      <td>10451.0</td>\n",
       "      <td>40.816696</td>\n",
       "      <td>-73.923096</td>\n",
       "      <td>POINT (-73.923096 40.816696)</td>\n",
       "      <td>MORRIS AVENUE</td>\n",
       "      <td>EAST 148 STREET</td>\n",
       "      <td>NaN</td>\n",
       "      <td>...</td>\n",
       "      <td>Unspecified</td>\n",
       "      <td>NaN</td>\n",
       "      <td>NaN</td>\n",
       "      <td>NaN</td>\n",
       "      <td>4286596</td>\n",
       "      <td>Station Wagon/Sport Utility Vehicle</td>\n",
       "      <td>NaN</td>\n",
       "      <td>NaN</td>\n",
       "      <td>NaN</td>\n",
       "      <td>NaN</td>\n",
       "    </tr>\n",
       "  </tbody>\n",
       "</table>\n",
       "<p>5 rows × 29 columns</p>\n",
       "</div>"
      ],
      "text/plain": [
       "   CRASH DATE CRASH TIME        BOROUGH  ZIP CODE   LATITUDE  LONGITUDE  \\\n",
       "0  2020-02-10       7:00            NaN       NaN  40.811030 -73.921490   \n",
       "1  2020-02-10      19:55       BROOKLYN   11216.0  40.679634 -73.949590   \n",
       "2  2020-02-10      10:50         QUEENS   11355.0  40.755390 -73.828285   \n",
       "3  2020-02-10       7:48  STATEN ISLAND   10305.0  40.600180 -74.064644   \n",
       "4  2020-02-10      15:00          BRONX   10451.0  40.816696 -73.923096   \n",
       "\n",
       "                       LOCATION                    ON STREET NAME  \\\n",
       "0    POINT (-73.92149 40.81103)  EAST 141 STREET                    \n",
       "1   POINT (-73.94959 40.679634)  NOSTRAND AVENUE                    \n",
       "2   POINT (-73.828285 40.75539)  MAIN STREET                        \n",
       "3   POINT (-74.064644 40.60018)  LILY POND AVENUE                   \n",
       "4  POINT (-73.923096 40.816696)  MORRIS AVENUE                      \n",
       "\n",
       "  CROSS STREET NAME OFF STREET NAME  ...   CONTRIBUTING FACTOR VEHICLE 2  \\\n",
       "0               NaN             NaN  ...                     Unspecified   \n",
       "1   HERKIMER STREET             NaN  ...                             NaN   \n",
       "2      MAPLE AVENUE             NaN  ...  Passing or Lane Usage Improper   \n",
       "3      MAJOR AVENUE             NaN  ...                     Unspecified   \n",
       "4   EAST 148 STREET             NaN  ...                     Unspecified   \n",
       "\n",
       "   CONTRIBUTING FACTOR VEHICLE 3  CONTRIBUTING FACTOR VEHICLE 4  \\\n",
       "0                            NaN                            NaN   \n",
       "1                            NaN                            NaN   \n",
       "2                            NaN                            NaN   \n",
       "3                            NaN                            NaN   \n",
       "4                            NaN                            NaN   \n",
       "\n",
       "   CONTRIBUTING FACTOR VEHICLE 5  COLLISION_ID  \\\n",
       "0                            NaN       4286591   \n",
       "1                            NaN       4287283   \n",
       "2                            NaN       4286357   \n",
       "3                            NaN       4286350   \n",
       "4                            NaN       4286596   \n",
       "\n",
       "                   VEHICLE TYPE CODE 1                  VEHICLE TYPE CODE 2  \\\n",
       "0                                Sedan  Station Wagon/Sport Utility Vehicle   \n",
       "1                                Sedan                                  NaN   \n",
       "2  Station Wagon/Sport Utility Vehicle  Station Wagon/Sport Utility Vehicle   \n",
       "3                                Sedan                                  NaN   \n",
       "4  Station Wagon/Sport Utility Vehicle                                  NaN   \n",
       "\n",
       "   VEHICLE TYPE CODE 3 VEHICLE TYPE CODE 4 VEHICLE TYPE CODE 5  \n",
       "0                  NaN                 NaN                 NaN  \n",
       "1                  NaN                 NaN                 NaN  \n",
       "2                  NaN                 NaN                 NaN  \n",
       "3                  NaN                 NaN                 NaN  \n",
       "4                  NaN                 NaN                 NaN  \n",
       "\n",
       "[5 rows x 29 columns]"
      ]
     },
     "execution_count": 3,
     "metadata": {},
     "output_type": "execute_result"
    }
   ],
   "source": [
    "df.drop(columns='Unnamed: 0', inplace=True)\n",
    "df.head()"
   ]
  },
  {
   "cell_type": "code",
   "execution_count": 4,
   "metadata": {},
   "outputs": [
    {
     "data": {
      "text/plain": [
       "(18748, 29)"
      ]
     },
     "execution_count": 4,
     "metadata": {},
     "output_type": "execute_result"
    }
   ],
   "source": [
    "df.shape"
   ]
  },
  {
   "cell_type": "code",
   "execution_count": 5,
   "metadata": {},
   "outputs": [
    {
     "data": {
      "text/plain": [
       "CRASH DATE                           0\n",
       "CRASH TIME                           0\n",
       "BOROUGH                           6274\n",
       "ZIP CODE                          6278\n",
       "LATITUDE                          1519\n",
       "LONGITUDE                         1519\n",
       "LOCATION                          1519\n",
       "ON STREET NAME                    4547\n",
       "CROSS STREET NAME                 9238\n",
       "OFF STREET NAME                  14201\n",
       "NUMBER OF PERSONS INJURED            0\n",
       "NUMBER OF PERSONS KILLED             0\n",
       "NUMBER OF PEDESTRIANS INJURED        0\n",
       "NUMBER OF PEDESTRIANS KILLED         0\n",
       "NUMBER OF CYCLIST INJURED            0\n",
       "NUMBER OF CYCLIST KILLED             0\n",
       "NUMBER OF MOTORIST INJURED           0\n",
       "NUMBER OF MOTORIST KILLED            0\n",
       "CONTRIBUTING FACTOR VEHICLE 1       77\n",
       "CONTRIBUTING FACTOR VEHICLE 2     3395\n",
       "CONTRIBUTING FACTOR VEHICLE 3    17408\n",
       "CONTRIBUTING FACTOR VEHICLE 4    18430\n",
       "CONTRIBUTING FACTOR VEHICLE 5    18665\n",
       "COLLISION_ID                         0\n",
       "VEHICLE TYPE CODE 1                156\n",
       "VEHICLE TYPE CODE 2               4486\n",
       "VEHICLE TYPE CODE 3              17477\n",
       "VEHICLE TYPE CODE 4              18441\n",
       "VEHICLE TYPE CODE 5              18673\n",
       "dtype: int64"
      ]
     },
     "execution_count": 5,
     "metadata": {},
     "output_type": "execute_result"
    }
   ],
   "source": [
    "df.isnull().sum()"
   ]
  },
  {
   "cell_type": "code",
   "execution_count": 6,
   "metadata": {},
   "outputs": [],
   "source": [
    "df.drop(columns={'OFF STREET NAME', 'CONTRIBUTING FACTOR VEHICLE 3', 'CONTRIBUTING FACTOR VEHICLE 4', \n",
    "                 'CONTRIBUTING FACTOR VEHICLE 5', 'VEHICLE TYPE CODE 3', 'VEHICLE TYPE CODE 4',\n",
    "                 'VEHICLE TYPE CODE 5'}, inplace=True)"
   ]
  },
  {
   "cell_type": "markdown",
   "metadata": {},
   "source": [
    "These columns can be safely removed, as they contain too many nulls and only provide extraneous detail that is not useful for addressing our problem."
   ]
  },
  {
   "cell_type": "code",
   "execution_count": 7,
   "metadata": {},
   "outputs": [
    {
     "data": {
      "text/plain": [
       "CRASH DATE                          0\n",
       "CRASH TIME                          0\n",
       "BOROUGH                          6274\n",
       "ZIP CODE                         6278\n",
       "LATITUDE                         1519\n",
       "LONGITUDE                        1519\n",
       "LOCATION                         1519\n",
       "ON STREET NAME                   4547\n",
       "CROSS STREET NAME                9238\n",
       "NUMBER OF PERSONS INJURED           0\n",
       "NUMBER OF PERSONS KILLED            0\n",
       "NUMBER OF PEDESTRIANS INJURED       0\n",
       "NUMBER OF PEDESTRIANS KILLED        0\n",
       "NUMBER OF CYCLIST INJURED           0\n",
       "NUMBER OF CYCLIST KILLED            0\n",
       "NUMBER OF MOTORIST INJURED          0\n",
       "NUMBER OF MOTORIST KILLED           0\n",
       "CONTRIBUTING FACTOR VEHICLE 1      77\n",
       "CONTRIBUTING FACTOR VEHICLE 2    3395\n",
       "COLLISION_ID                        0\n",
       "VEHICLE TYPE CODE 1               156\n",
       "VEHICLE TYPE CODE 2              4486\n",
       "dtype: int64"
      ]
     },
     "execution_count": 7,
     "metadata": {},
     "output_type": "execute_result"
    }
   ],
   "source": [
    "df.isnull().sum()"
   ]
  },
  {
   "cell_type": "code",
   "execution_count": 8,
   "metadata": {},
   "outputs": [],
   "source": [
    "df.dropna(inplace=True)"
   ]
  },
  {
   "cell_type": "markdown",
   "metadata": {},
   "source": [
    "The visualizations below deal with date and time, which have no nulls, and borough, for which we only want to examine named locations. Nulls can be dropped in order to create these visuals."
   ]
  },
  {
   "cell_type": "code",
   "execution_count": 9,
   "metadata": {},
   "outputs": [
    {
     "data": {
      "text/plain": [
       "CRASH DATE                        object\n",
       "CRASH TIME                        object\n",
       "BOROUGH                           object\n",
       "ZIP CODE                         float64\n",
       "LATITUDE                         float64\n",
       "LONGITUDE                        float64\n",
       "LOCATION                          object\n",
       "ON STREET NAME                    object\n",
       "CROSS STREET NAME                 object\n",
       "NUMBER OF PERSONS INJURED        float64\n",
       "NUMBER OF PERSONS KILLED         float64\n",
       "NUMBER OF PEDESTRIANS INJURED      int64\n",
       "NUMBER OF PEDESTRIANS KILLED       int64\n",
       "NUMBER OF CYCLIST INJURED          int64\n",
       "NUMBER OF CYCLIST KILLED           int64\n",
       "NUMBER OF MOTORIST INJURED         int64\n",
       "NUMBER OF MOTORIST KILLED          int64\n",
       "CONTRIBUTING FACTOR VEHICLE 1     object\n",
       "CONTRIBUTING FACTOR VEHICLE 2     object\n",
       "COLLISION_ID                       int64\n",
       "VEHICLE TYPE CODE 1               object\n",
       "VEHICLE TYPE CODE 2               object\n",
       "dtype: object"
      ]
     },
     "execution_count": 9,
     "metadata": {},
     "output_type": "execute_result"
    }
   ],
   "source": [
    "df.dtypes"
   ]
  },
  {
   "cell_type": "code",
   "execution_count": 10,
   "metadata": {},
   "outputs": [
    {
     "data": {
      "text/html": [
       "<div>\n",
       "<style scoped>\n",
       "    .dataframe tbody tr th:only-of-type {\n",
       "        vertical-align: middle;\n",
       "    }\n",
       "\n",
       "    .dataframe tbody tr th {\n",
       "        vertical-align: top;\n",
       "    }\n",
       "\n",
       "    .dataframe thead th {\n",
       "        text-align: right;\n",
       "    }\n",
       "</style>\n",
       "<table border=\"1\" class=\"dataframe\">\n",
       "  <thead>\n",
       "    <tr style=\"text-align: right;\">\n",
       "      <th></th>\n",
       "      <th>CRASH DATE</th>\n",
       "      <th>CRASH TIME</th>\n",
       "    </tr>\n",
       "  </thead>\n",
       "  <tbody>\n",
       "    <tr>\n",
       "      <th>2</th>\n",
       "      <td>2020-02-10</td>\n",
       "      <td>10:50</td>\n",
       "    </tr>\n",
       "    <tr>\n",
       "      <th>6</th>\n",
       "      <td>2020-02-10</td>\n",
       "      <td>8:15</td>\n",
       "    </tr>\n",
       "    <tr>\n",
       "      <th>13</th>\n",
       "      <td>2020-02-10</td>\n",
       "      <td>14:30</td>\n",
       "    </tr>\n",
       "    <tr>\n",
       "      <th>24</th>\n",
       "      <td>2020-02-10</td>\n",
       "      <td>16:10</td>\n",
       "    </tr>\n",
       "    <tr>\n",
       "      <th>26</th>\n",
       "      <td>2020-02-10</td>\n",
       "      <td>1:20</td>\n",
       "    </tr>\n",
       "  </tbody>\n",
       "</table>\n",
       "</div>"
      ],
      "text/plain": [
       "    CRASH DATE CRASH TIME\n",
       "2   2020-02-10      10:50\n",
       "6   2020-02-10       8:15\n",
       "13  2020-02-10      14:30\n",
       "24  2020-02-10      16:10\n",
       "26  2020-02-10       1:20"
      ]
     },
     "execution_count": 10,
     "metadata": {},
     "output_type": "execute_result"
    }
   ],
   "source": [
    "df[['CRASH DATE', 'CRASH TIME']].head()"
   ]
  },
  {
   "cell_type": "markdown",
   "metadata": {},
   "source": [
    "These columns will need to be converted to datetime in order to properly visualize them."
   ]
  },
  {
   "cell_type": "markdown",
   "metadata": {},
   "source": [
    "## Observing accidents by date and time"
   ]
  },
  {
   "cell_type": "code",
   "execution_count": 11,
   "metadata": {},
   "outputs": [],
   "source": [
    "df['CRASH DATE'] = pd.to_datetime(df['CRASH DATE'])\n",
    "df['CRASH TIME'] = pd.to_datetime(df['CRASH TIME'])"
   ]
  },
  {
   "cell_type": "code",
   "execution_count": 12,
   "metadata": {},
   "outputs": [],
   "source": [
    "df['day'] = df['CRASH DATE'].dt.dayofweek\n",
    "df['day'] = df['day'].map({\n",
    "    0: 'Monday',\n",
    "    1: 'Tuesday',\n",
    "    2: 'Wednesday',\n",
    "    3: 'Thursday',\n",
    "    4: 'Friday',\n",
    "    5: 'Saturday',\n",
    "    6: 'Sunday'\n",
    "})\n",
    "\n",
    "df['hour'] = df['CRASH TIME'].dt.hour"
   ]
  },
  {
   "cell_type": "code",
   "execution_count": 14,
   "metadata": {},
   "outputs": [
    {
     "ename": "KeyboardInterrupt",
     "evalue": "",
     "output_type": "error",
     "traceback": [
      "\u001b[0;31m---------------------------------------------------------------------------\u001b[0m",
      "\u001b[0;31mKeyboardInterrupt\u001b[0m                         Traceback (most recent call last)",
      "\u001b[0;32m<ipython-input-14-fd2543c24795>\u001b[0m in \u001b[0;36m<module>\u001b[0;34m\u001b[0m\n\u001b[1;32m     49\u001b[0m \u001b[0mhour_22\u001b[0m \u001b[0;34m=\u001b[0m \u001b[0mRTAs_by_hour\u001b[0m\u001b[0;34m(\u001b[0m\u001b[0mdf\u001b[0m\u001b[0;34m,\u001b[0m \u001b[0;36m22\u001b[0m\u001b[0;34m)\u001b[0m\u001b[0;34m\u001b[0m\u001b[0;34m\u001b[0m\u001b[0m\n\u001b[1;32m     50\u001b[0m \u001b[0mhour_23\u001b[0m \u001b[0;34m=\u001b[0m \u001b[0mRTAs_by_hour\u001b[0m\u001b[0;34m(\u001b[0m\u001b[0mdf\u001b[0m\u001b[0;34m,\u001b[0m \u001b[0;36m23\u001b[0m\u001b[0;34m)\u001b[0m\u001b[0;34m\u001b[0m\u001b[0;34m\u001b[0m\u001b[0m\n\u001b[0;32m---> 51\u001b[0;31m \u001b[0mhour_24\u001b[0m \u001b[0;34m=\u001b[0m \u001b[0mRTAs_by_hour\u001b[0m\u001b[0;34m(\u001b[0m\u001b[0mdf\u001b[0m\u001b[0;34m,\u001b[0m \u001b[0;36m24\u001b[0m\u001b[0;34m)\u001b[0m\u001b[0;34m\u001b[0m\u001b[0;34m\u001b[0m\u001b[0m\n\u001b[0m",
      "\u001b[0;32m<ipython-input-14-fd2543c24795>\u001b[0m in \u001b[0;36mRTAs_by_hour\u001b[0;34m(df, hour)\u001b[0m\n\u001b[1;32m     10\u001b[0m         \u001b[0;32melif\u001b[0m \u001b[0mrow\u001b[0m\u001b[0;34m[\u001b[0m\u001b[0;34m\"hour\"\u001b[0m\u001b[0;34m]\u001b[0m \u001b[0;34m==\u001b[0m \u001b[0mhour\u001b[0m \u001b[0;32mand\u001b[0m \u001b[0mrow\u001b[0m\u001b[0;34m[\u001b[0m\u001b[0;34m\"day\"\u001b[0m\u001b[0;34m]\u001b[0m \u001b[0;34m==\u001b[0m \u001b[0;34m\"Friday\"\u001b[0m\u001b[0;34m:\u001b[0m \u001b[0mfri\u001b[0m \u001b[0;34m+=\u001b[0m\u001b[0;36m1\u001b[0m\u001b[0;34m\u001b[0m\u001b[0;34m\u001b[0m\u001b[0m\n\u001b[1;32m     11\u001b[0m         \u001b[0;32melif\u001b[0m \u001b[0mrow\u001b[0m\u001b[0;34m[\u001b[0m\u001b[0;34m\"hour\"\u001b[0m\u001b[0;34m]\u001b[0m \u001b[0;34m==\u001b[0m \u001b[0mhour\u001b[0m \u001b[0;32mand\u001b[0m \u001b[0mrow\u001b[0m\u001b[0;34m[\u001b[0m\u001b[0;34m\"day\"\u001b[0m\u001b[0;34m]\u001b[0m \u001b[0;34m==\u001b[0m \u001b[0;34m\"Saturday\"\u001b[0m\u001b[0;34m:\u001b[0m \u001b[0msat\u001b[0m \u001b[0;34m+=\u001b[0m\u001b[0;36m1\u001b[0m\u001b[0;34m\u001b[0m\u001b[0;34m\u001b[0m\u001b[0m\n\u001b[0;32m---> 12\u001b[0;31m         \u001b[0;32melif\u001b[0m \u001b[0mrow\u001b[0m\u001b[0;34m[\u001b[0m\u001b[0;34m\"hour\"\u001b[0m\u001b[0;34m]\u001b[0m \u001b[0;34m==\u001b[0m \u001b[0mhour\u001b[0m \u001b[0;32mand\u001b[0m \u001b[0mrow\u001b[0m\u001b[0;34m[\u001b[0m\u001b[0;34m\"day\"\u001b[0m\u001b[0;34m]\u001b[0m \u001b[0;34m==\u001b[0m \u001b[0;34m\"Sunday\"\u001b[0m\u001b[0;34m:\u001b[0m \u001b[0msun\u001b[0m \u001b[0;34m+=\u001b[0m\u001b[0;36m1\u001b[0m\u001b[0;34m\u001b[0m\u001b[0;34m\u001b[0m\u001b[0m\n\u001b[0m\u001b[1;32m     13\u001b[0m         \u001b[0;32melse\u001b[0m\u001b[0;34m:\u001b[0m \u001b[0ma\u001b[0m\u001b[0;34m=\u001b[0m\u001b[0;36m0\u001b[0m\u001b[0;34m\u001b[0m\u001b[0;34m\u001b[0m\u001b[0m\n\u001b[1;32m     14\u001b[0m \u001b[0;34m\u001b[0m\u001b[0m\n",
      "\u001b[0;32m~/opt/anaconda3/lib/python3.7/site-packages/pandas/core/series.py\u001b[0m in \u001b[0;36m__getitem__\u001b[0;34m(self, key)\u001b[0m\n\u001b[1;32m   1067\u001b[0m \u001b[0;34m\u001b[0m\u001b[0m\n\u001b[1;32m   1068\u001b[0m     \u001b[0;32mdef\u001b[0m \u001b[0m__getitem__\u001b[0m\u001b[0;34m(\u001b[0m\u001b[0mself\u001b[0m\u001b[0;34m,\u001b[0m \u001b[0mkey\u001b[0m\u001b[0;34m)\u001b[0m\u001b[0;34m:\u001b[0m\u001b[0;34m\u001b[0m\u001b[0;34m\u001b[0m\u001b[0m\n\u001b[0;32m-> 1069\u001b[0;31m         \u001b[0mkey\u001b[0m \u001b[0;34m=\u001b[0m \u001b[0mcom\u001b[0m\u001b[0;34m.\u001b[0m\u001b[0mapply_if_callable\u001b[0m\u001b[0;34m(\u001b[0m\u001b[0mkey\u001b[0m\u001b[0;34m,\u001b[0m \u001b[0mself\u001b[0m\u001b[0;34m)\u001b[0m\u001b[0;34m\u001b[0m\u001b[0;34m\u001b[0m\u001b[0m\n\u001b[0m\u001b[1;32m   1070\u001b[0m         \u001b[0;32mtry\u001b[0m\u001b[0;34m:\u001b[0m\u001b[0;34m\u001b[0m\u001b[0;34m\u001b[0m\u001b[0m\n\u001b[1;32m   1071\u001b[0m             \u001b[0mresult\u001b[0m \u001b[0;34m=\u001b[0m \u001b[0mself\u001b[0m\u001b[0;34m.\u001b[0m\u001b[0mindex\u001b[0m\u001b[0;34m.\u001b[0m\u001b[0mget_value\u001b[0m\u001b[0;34m(\u001b[0m\u001b[0mself\u001b[0m\u001b[0;34m,\u001b[0m \u001b[0mkey\u001b[0m\u001b[0;34m)\u001b[0m\u001b[0;34m\u001b[0m\u001b[0;34m\u001b[0m\u001b[0m\n",
      "\u001b[0;31mKeyboardInterrupt\u001b[0m: "
     ]
    }
   ],
   "source": [
    "def RTAs_by_hour(df, hour): # Code by Meraldo Antonio\n",
    "    hour_list = []\n",
    "    mon, tues, wed, thurs, fri, sat, sun = 0,0,0,0,0,0,0\n",
    "    \n",
    "    for idx, row in df.iterrows():\n",
    "        if row[\"hour\"] == hour and row[\"day\"] == \"Monday\": mon +=1\n",
    "        elif row[\"hour\"] == hour and row[\"day\"] == \"Tuesday\": tues +=1\n",
    "        elif row[\"hour\"] == hour and row[\"day\"] == \"Wednesday\": wed +=1\n",
    "        elif row[\"hour\"] == hour and row[\"day\"] == \"Thursday\": thurs +=1\n",
    "        elif row[\"hour\"] == hour and row[\"day\"] == \"Friday\": fri +=1\n",
    "        elif row[\"hour\"] == hour and row[\"day\"] == \"Saturday\": sat +=1\n",
    "        elif row[\"hour\"] == hour and row[\"day\"] == \"Sunday\": sun +=1\n",
    "        else: a=0 \n",
    "\n",
    "    hour_list.append(mon)\n",
    "    hour_list.append(tues)\n",
    "    hour_list.append(wed)\n",
    "    hour_list.append(thurs)\n",
    "    hour_list.append(fri)\n",
    "    hour_list.append(sat)\n",
    "    hour_list.append(sun)\n",
    "    \n",
    "    total = mon+tues+wed+thurs+fri+sat+sun\n",
    "    \n",
    "    return(hour_list)\n",
    "\n",
    "hour_0 = RTAs_by_hour(df, 0) # Code by Meraldo Antonio\n",
    "hour_1 = RTAs_by_hour(df, 1)\n",
    "hour_2 = RTAs_by_hour(df, 2)\n",
    "hour_3 = RTAs_by_hour(df, 3)\n",
    "hour_4 = RTAs_by_hour(df, 4)\n",
    "hour_5 = RTAs_by_hour(df, 5)\n",
    "hour_6 = RTAs_by_hour(df, 6)\n",
    "hour_7 = RTAs_by_hour(df, 7)\n",
    "hour_8 = RTAs_by_hour(df, 8)\n",
    "hour_9 = RTAs_by_hour(df, 9)\n",
    "hour_10 = RTAs_by_hour(df, 10)\n",
    "hour_11 = RTAs_by_hour(df, 11)\n",
    "hour_12 = RTAs_by_hour(df, 12)\n",
    "hour_13 = RTAs_by_hour(df, 13)\n",
    "hour_14 = RTAs_by_hour(df, 14)\n",
    "hour_15 = RTAs_by_hour(df, 15)\n",
    "hour_16 = RTAs_by_hour(df, 16)\n",
    "hour_17 = RTAs_by_hour(df, 17)\n",
    "hour_18 = RTAs_by_hour(df, 18)\n",
    "hour_19 = RTAs_by_hour(df, 19)\n",
    "hour_20 = RTAs_by_hour(df, 20)\n",
    "hour_21 = RTAs_by_hour(df, 21)\n",
    "hour_22 = RTAs_by_hour(df, 22)\n",
    "hour_23 = RTAs_by_hour(df, 23)\n",
    "hour_24 = RTAs_by_hour(df, 24)"
   ]
  },
  {
   "cell_type": "code",
   "execution_count": null,
   "metadata": {},
   "outputs": [],
   "source": [
    "columns = [\"Monday\", \"Tuesday\", \"Wednesday\", \"Thursday\", \"Friday\", \"Saturday\", \"Sunday\"] # Code by Meraldo Antonio\n",
    "rows = [\"0\", \"1am\", \"2am\", \"3am\", \"4am\", \"5am\", \"6am\", \"7am\", \"8am\", \"9am\", \"10am\", \"11am\", \"12pm\", \"1pm\", \"2pm\", \"3pm\",\"4pm\",\"5pm\",\"6pm\",\"7pm\",\"8pm\",\"9pm\",\"10pm\",\"11pm\"]\n",
    "data = np.array([hour_0, hour_1, hour_2, hour_3, hour_4, hour_5, hour_6, hour_7, hour_8, hour_9, hour_10, hour_11, hour_12, hour_13, hour_14, hour_15, hour_16, hour_17, hour_18, hour_19, hour_20, hour_21, hour_22, hour_23])\n",
    "heatmap_hour = pd.DataFrame(data=data, index=rows, columns=columns)"
   ]
  },
  {
   "cell_type": "code",
   "execution_count": null,
   "metadata": {},
   "outputs": [],
   "source": [
    "fig = plt.figure(figsize=(12,12))\n",
    "ax = sns.heatmap(heatmap_hour[7:21], annot=True, fmt=\"d\", cmap='BuPu', cbar_kws={\"orientation\": \"horizontal\"},\n",
    "                annot_kws={\"size\": 25})\n",
    "ax.set_title(\"Number of Accidents by Day and Time of Day\", fontsize=20)\n",
    "sns.set(font_scale=1.7)"
   ]
  },
  {
   "cell_type": "markdown",
   "metadata": {},
   "source": [
    "Road density is most concentrated in the morning and afternoon, which is consistent with typcial rush hours in New York City. Thursday, Friday, and Saturday are generally the busiest days, which 1 PM on Saturday having the highest number of road closures. Curiously, Thursday morning stands out as a particularly congested time slot."
   ]
  },
  {
   "cell_type": "markdown",
   "metadata": {},
   "source": [
    "## Examining number of accidents by borough"
   ]
  },
  {
   "cell_type": "code",
   "execution_count": null,
   "metadata": {},
   "outputs": [],
   "source": [
    "plt.figure(figsize=(10,5))\n",
    "p = sns.countplot(df['BOROUGH'], order=df['BOROUGH'].value_counts().index, palette=\"Reds_r\")\n",
    "p.set_title('Number of Accidents by Borough', fontsize=20)\n",
    "p.set_xticklabels(p.get_xticklabels(), rotation=45)"
   ]
  },
  {
   "cell_type": "markdown",
   "metadata": {},
   "source": [
    "This plot tells us that we can expect more traffic in Brooklyn than in Manhattan. This is likely because of congestion in Brooklyn caused by the Brookly-Queens Expressway."
   ]
  },
  {
   "cell_type": "markdown",
   "metadata": {},
   "source": [
    "# EDA - Exploring the TomTom Data"
   ]
  },
  {
   "cell_type": "markdown",
   "metadata": {},
   "source": [
    "## Importing TomTom data"
   ]
  },
  {
   "cell_type": "code",
   "execution_count": 15,
   "metadata": {},
   "outputs": [
    {
     "data": {
      "text/html": [
       "<div>\n",
       "<style scoped>\n",
       "    .dataframe tbody tr th:only-of-type {\n",
       "        vertical-align: middle;\n",
       "    }\n",
       "\n",
       "    .dataframe tbody tr th {\n",
       "        vertical-align: top;\n",
       "    }\n",
       "\n",
       "    .dataframe thead th {\n",
       "        text-align: right;\n",
       "    }\n",
       "</style>\n",
       "<table border=\"1\" class=\"dataframe\">\n",
       "  <thead>\n",
       "    <tr style=\"text-align: right;\">\n",
       "      <th></th>\n",
       "      <th>coord</th>\n",
       "      <th>day</th>\n",
       "      <th>delay</th>\n",
       "      <th>description</th>\n",
       "      <th>end_date</th>\n",
       "      <th>from</th>\n",
       "      <th>geometry</th>\n",
       "      <th>hour</th>\n",
       "      <th>id</th>\n",
       "      <th>latitude</th>\n",
       "      <th>length</th>\n",
       "      <th>longitude</th>\n",
       "      <th>to</th>\n",
       "    </tr>\n",
       "  </thead>\n",
       "  <tbody>\n",
       "    <tr>\n",
       "      <th>0</th>\n",
       "      <td>{'x': -73.9743662, 'y': 40.7783631}</td>\n",
       "      <td>Tuesday</td>\n",
       "      <td>0</td>\n",
       "      <td>4</td>\n",
       "      <td>2020-02-25 05:43:59+00:00</td>\n",
       "      <td>Central Park W</td>\n",
       "      <td>POINT (-73.97436620000001 40.7783631)</td>\n",
       "      <td>5.0</td>\n",
       "      <td>TTR5158489041614001</td>\n",
       "      <td>40.778363</td>\n",
       "      <td>272</td>\n",
       "      <td>-73.974366</td>\n",
       "      <td>Broadway</td>\n",
       "    </tr>\n",
       "    <tr>\n",
       "      <th>1</th>\n",
       "      <td>{'x': -73.9803143, 'y': 40.7544967}</td>\n",
       "      <td>Thursday</td>\n",
       "      <td>1</td>\n",
       "      <td>2</td>\n",
       "      <td>2020-02-13 17:41:00+00:00</td>\n",
       "      <td>5th Ave (50th St)</td>\n",
       "      <td>POINT (-73.9803143 40.7544967)</td>\n",
       "      <td>17.0</td>\n",
       "      <td>TTL5159643158406005</td>\n",
       "      <td>40.754497</td>\n",
       "      <td>299</td>\n",
       "      <td>-73.980314</td>\n",
       "      <td>Park Ave (E 50th St)</td>\n",
       "    </tr>\n",
       "    <tr>\n",
       "      <th>2</th>\n",
       "      <td>{'x': -73.9851146, 'y': 40.7730232}</td>\n",
       "      <td>Thursday</td>\n",
       "      <td>1</td>\n",
       "      <td>2</td>\n",
       "      <td>2020-02-13 17:41:00+00:00</td>\n",
       "      <td>Broadway</td>\n",
       "      <td>POINT (-73.9851146 40.7730232)</td>\n",
       "      <td>17.0</td>\n",
       "      <td>TTL5157911932806006</td>\n",
       "      <td>40.773023</td>\n",
       "      <td>487</td>\n",
       "      <td>-73.985115</td>\n",
       "      <td>Central Park W</td>\n",
       "    </tr>\n",
       "    <tr>\n",
       "      <th>3</th>\n",
       "      <td>{'x': -73.985892, 'y': 40.7671613}</td>\n",
       "      <td>Tuesday</td>\n",
       "      <td>0</td>\n",
       "      <td>4</td>\n",
       "      <td>2020-03-31 04:43:59+00:00</td>\n",
       "      <td>W 57th St (7th Ave)</td>\n",
       "      <td>POINT (-73.98589200000001 40.7671613)</td>\n",
       "      <td>4.0</td>\n",
       "      <td>TTR5159066100004001</td>\n",
       "      <td>40.767161</td>\n",
       "      <td>78</td>\n",
       "      <td>-73.985892</td>\n",
       "      <td>W 50th St (7th Ave)</td>\n",
       "    </tr>\n",
       "    <tr>\n",
       "      <th>4</th>\n",
       "      <td>{'x': -73.9823474, 'y': 40.7537168}</td>\n",
       "      <td>Thursday</td>\n",
       "      <td>1</td>\n",
       "      <td>2</td>\n",
       "      <td>2020-02-13 17:41:00+00:00</td>\n",
       "      <td>6th Ave/Avenue of the Americas (W 48th St)</td>\n",
       "      <td>POINT (-73.98234739999999 40.7537168)</td>\n",
       "      <td>17.0</td>\n",
       "      <td>TTL5159643158406004</td>\n",
       "      <td>40.753717</td>\n",
       "      <td>421</td>\n",
       "      <td>-73.982347</td>\n",
       "      <td>Park Ave (E 48th St)</td>\n",
       "    </tr>\n",
       "  </tbody>\n",
       "</table>\n",
       "</div>"
      ],
      "text/plain": [
       "                                 coord       day  delay  description  \\\n",
       "0  {'x': -73.9743662, 'y': 40.7783631}   Tuesday      0            4   \n",
       "1  {'x': -73.9803143, 'y': 40.7544967}  Thursday      1            2   \n",
       "2  {'x': -73.9851146, 'y': 40.7730232}  Thursday      1            2   \n",
       "3   {'x': -73.985892, 'y': 40.7671613}   Tuesday      0            4   \n",
       "4  {'x': -73.9823474, 'y': 40.7537168}  Thursday      1            2   \n",
       "\n",
       "                    end_date                                        from  \\\n",
       "0  2020-02-25 05:43:59+00:00                              Central Park W   \n",
       "1  2020-02-13 17:41:00+00:00                           5th Ave (50th St)   \n",
       "2  2020-02-13 17:41:00+00:00                                    Broadway   \n",
       "3  2020-03-31 04:43:59+00:00                         W 57th St (7th Ave)   \n",
       "4  2020-02-13 17:41:00+00:00  6th Ave/Avenue of the Americas (W 48th St)   \n",
       "\n",
       "                                geometry  hour                   id  \\\n",
       "0  POINT (-73.97436620000001 40.7783631)   5.0  TTR5158489041614001   \n",
       "1         POINT (-73.9803143 40.7544967)  17.0  TTL5159643158406005   \n",
       "2         POINT (-73.9851146 40.7730232)  17.0  TTL5157911932806006   \n",
       "3  POINT (-73.98589200000001 40.7671613)   4.0  TTR5159066100004001   \n",
       "4  POINT (-73.98234739999999 40.7537168)  17.0  TTL5159643158406004   \n",
       "\n",
       "    latitude  length  longitude                    to  \n",
       "0  40.778363     272 -73.974366              Broadway  \n",
       "1  40.754497     299 -73.980314  Park Ave (E 50th St)  \n",
       "2  40.773023     487 -73.985115        Central Park W  \n",
       "3  40.767161      78 -73.985892   W 50th St (7th Ave)  \n",
       "4  40.753717     421 -73.982347  Park Ave (E 48th St)  "
      ]
     },
     "execution_count": 15,
     "metadata": {},
     "output_type": "execute_result"
    }
   ],
   "source": [
    "data = pd.read_csv('./data/df_db.csv')\n",
    "data.head()"
   ]
  },
  {
   "cell_type": "markdown",
   "metadata": {},
   "source": [
    "This dataset has a specific column describing the condition of roads. We want our analysis to address various types of road closure."
   ]
  },
  {
   "cell_type": "markdown",
   "metadata": {},
   "source": [
    "## Data cleaning"
   ]
  },
  {
   "cell_type": "code",
   "execution_count": 16,
   "metadata": {},
   "outputs": [
    {
     "data": {
      "text/plain": [
       "(1247, 13)"
      ]
     },
     "execution_count": 16,
     "metadata": {},
     "output_type": "execute_result"
    }
   ],
   "source": [
    "data.shape"
   ]
  },
  {
   "cell_type": "code",
   "execution_count": 17,
   "metadata": {},
   "outputs": [
    {
     "data": {
      "text/plain": [
       "coord          0\n",
       "day            0\n",
       "delay          0\n",
       "description    0\n",
       "end_date       0\n",
       "from           0\n",
       "geometry       0\n",
       "hour           0\n",
       "id             0\n",
       "latitude       0\n",
       "length         0\n",
       "longitude      0\n",
       "to             0\n",
       "dtype: int64"
      ]
     },
     "execution_count": 17,
     "metadata": {},
     "output_type": "execute_result"
    }
   ],
   "source": [
    "data.isnull().sum()"
   ]
  },
  {
   "cell_type": "markdown",
   "metadata": {},
   "source": [
    "We are most interested in exploring counts within the 'description' column. The column has no nulls, so we will proceed."
   ]
  },
  {
   "cell_type": "markdown",
   "metadata": {},
   "source": [
    "## Separating coordinates"
   ]
  },
  {
   "cell_type": "code",
   "execution_count": 20,
   "metadata": {},
   "outputs": [],
   "source": [
    "for i,val in enumerate(data['coord']):\n",
    "    data['x'] = data['coord'][i].split(' ')[1].replace(',', '')\n",
    "for i,val in enumerate(data['coord']):\n",
    "    data['y'] = data['coord'][i].split(' ')[3].replace('}', '')\n",
    "    \n",
    "data['x'] = data['x'].astype(float)\n",
    "data['y'] = data['y'].astype(float)"
   ]
  },
  {
   "cell_type": "markdown",
   "metadata": {},
   "source": [
    "The raw data only lists coordinates as a single object. This code separates latitude and longitude into two columns of floats. The coordinates are much more usable this way."
   ]
  },
  {
   "cell_type": "markdown",
   "metadata": {},
   "source": [
    "## Observing common types of incidents"
   ]
  },
  {
   "cell_type": "code",
   "execution_count": 21,
   "metadata": {},
   "outputs": [
    {
     "data": {
      "text/plain": [
       "[Text(0, 0, '2'),\n",
       " Text(0, 0, '3'),\n",
       " Text(0, 0, '9'),\n",
       " Text(0, 0, '4'),\n",
       " Text(0, 0, '13'),\n",
       " Text(0, 0, '5'),\n",
       " Text(0, 0, '12'),\n",
       " Text(0, 0, '1'),\n",
       " Text(0, 0, '10'),\n",
       " Text(0, 0, '15'),\n",
       " Text(0, 0, '6'),\n",
       " Text(0, 0, '7'),\n",
       " Text(0, 0, '14'),\n",
       " Text(0, 0, '11'),\n",
       " Text(0, 0, '8')]"
      ]
     },
     "execution_count": 21,
     "metadata": {},
     "output_type": "execute_result"
    },
    {
     "data": {
      "image/png": "[encoded data removed]",
      "text/plain": [
       "<Figure size 720x360 with 1 Axes>"
      ]
     },
     "metadata": {
      "needs_background": "light"
     },
     "output_type": "display_data"
    }
   ],
   "source": [
    "plt.figure(figsize=(10,5))\n",
    "p = sns.countplot(x=data['description'], order=data['description'].value_counts().index, palette=\"Reds_r\")\n",
    "p.set_title(\"Most Common Types of Road Incident\")\n",
    "#p.set_xticklabels(rotation=45)\n",
    "p.set_xticklabels(p.get_xticklabels(), rotation=45)"
   ]
  },
  {
   "cell_type": "markdown",
   "metadata": {},
   "source": [
    "The most common types of road incident are related to road works, slow traffic, or gridlock. The NYC Open Data only covers accidents, so this dataset from TomTom is much more comprehensive. Construction and congestion are the biggest factors to consider when planning an evacuation route."
   ]
  },
  {
   "cell_type": "markdown",
   "metadata": {},
   "source": [
    "## Observing accidents by date and time"
   ]
  },
  {
   "cell_type": "code",
   "execution_count": 22,
   "metadata": {},
   "outputs": [],
   "source": [
    "def RTAs_by_hour(df, hour): # Code by Meraldo Antonio\n",
    "    hour_list = []\n",
    "    mon, tues, wed, thurs, fri, sat, sun = 0,0,0,0,0,0,0\n",
    "    \n",
    "    for idx, row in df.iterrows():\n",
    "        if row[\"hour\"] == hour and row[\"day\"] == \"Monday\": mon +=1\n",
    "        elif row[\"hour\"] == hour and row[\"day\"] == \"Tuesday\": tues +=1\n",
    "        elif row[\"hour\"] == hour and row[\"day\"] == \"Wednesday\": wed +=1\n",
    "        elif row[\"hour\"] == hour and row[\"day\"] == \"Thursday\": thurs +=1\n",
    "        elif row[\"hour\"] == hour and row[\"day\"] == \"Friday\": fri +=1\n",
    "        elif row[\"hour\"] == hour and row[\"day\"] == \"Saturday\": sat +=1\n",
    "        elif row[\"hour\"] == hour and row[\"day\"] == \"Sunday\": sun +=1\n",
    "        else: a=0 \n",
    "\n",
    "    hour_list.append(mon)\n",
    "    hour_list.append(tues)\n",
    "    hour_list.append(wed)\n",
    "    hour_list.append(thurs)\n",
    "    hour_list.append(fri)\n",
    "    hour_list.append(sat)\n",
    "    hour_list.append(sun)\n",
    "    \n",
    "    total = mon+tues+wed+thurs+fri+sat+sun\n",
    "    \n",
    "    return(hour_list)\n",
    "\n",
    "hour_0 = RTAs_by_hour(data, 0) # Code by Meraldo Antonio\n",
    "hour_1 = RTAs_by_hour(data, 1)\n",
    "hour_2 = RTAs_by_hour(data, 2)\n",
    "hour_3 = RTAs_by_hour(data, 3)\n",
    "hour_4 = RTAs_by_hour(data, 4)\n",
    "hour_5 = RTAs_by_hour(data, 5)\n",
    "hour_6 = RTAs_by_hour(data, 6)\n",
    "hour_7 = RTAs_by_hour(data, 7)\n",
    "hour_8 = RTAs_by_hour(data, 8)\n",
    "hour_9 = RTAs_by_hour(data, 9)\n",
    "hour_10 = RTAs_by_hour(data, 10)\n",
    "hour_11 = RTAs_by_hour(data, 11)\n",
    "hour_12 = RTAs_by_hour(data, 12)\n",
    "hour_13 = RTAs_by_hour(data, 13)\n",
    "hour_14 = RTAs_by_hour(data, 14)\n",
    "hour_15 = RTAs_by_hour(data, 15)\n",
    "hour_16 = RTAs_by_hour(data, 16)\n",
    "hour_17 = RTAs_by_hour(data, 17)\n",
    "hour_18 = RTAs_by_hour(data, 18)\n",
    "hour_19 = RTAs_by_hour(data, 19)\n",
    "hour_20 = RTAs_by_hour(data, 20)\n",
    "hour_21 = RTAs_by_hour(data, 21)\n",
    "hour_22 = RTAs_by_hour(data, 22)\n",
    "hour_23 = RTAs_by_hour(data, 23)\n",
    "hour_24 = RTAs_by_hour(data, 24)\n",
    "\n",
    "columns = [\"Monday\", \"Tuesday\", \"Wednesday\", \"Thursday\", \"Friday\", \"Saturday\", \"Sunday\"] # Code by Meraldo Antonio\n",
    "rows = [\"0\", \"1am\", \"2am\", \"3am\", \"4am\", \"5am\", \"6am\", \"7am\", \"8am\", \"9am\", \"10am\", \"11am\", \"12pm\", \"1pm\", \"2pm\", \"3pm\",\"4pm\",\"5pm\",\"6pm\",\"7pm\",\"8pm\",\"9pm\",\"10pm\",\"11pm\"]\n",
    "data = np.array([hour_0, hour_1, hour_2, hour_3, hour_4, hour_5, hour_6, hour_7, hour_8, hour_9, hour_10, hour_11, hour_12, hour_13, hour_14, hour_15, hour_16, hour_17, hour_18, hour_19, hour_20, hour_21, hour_22, hour_23])\n",
    "heatmap_hour = pd.DataFrame(data=data, index=rows, columns=columns)"
   ]
  },
  {
   "cell_type": "code",
   "execution_count": 23,
   "metadata": {},
   "outputs": [
    {
     "data": {
      "text/plain": [
       "Text(0.5, 1, 'Road Incidents by Day and Time of Day')"
      ]
     },
     "execution_count": 23,
     "metadata": {},
     "output_type": "execute_result"
    },
    {
     "data": {
      "image/png": "[encoded data removed]",
      "text/plain": [
       "<Figure size 864x864 with 2 Axes>"
      ]
     },
     "metadata": {
      "needs_background": "light"
     },
     "output_type": "display_data"
    }
   ],
   "source": [
    "fig = plt.figure(figsize=(12,12))\n",
    "ax = sns.heatmap(heatmap_hour, annot=True, fmt=\"d\", cmap='BuPu', cbar_kws={\"orientation\": \"horizontal\"} )\n",
    "ax.set_title(\"Road Incidents by Day and Time of Day\")"
   ]
  },
  {
   "cell_type": "markdown",
   "metadata": {},
   "source": [
    "We were curious to see if accidents occur at the same times as more common types of road incident. These incidents are common between 2-5 AM, with some lighter concentration during rush hours across the week. The highest concentration on Wednesday and Thursday may be due to rush hour traffic. It is curious that more incidents occur in the early morning hours, even though construction in NYC is restricted to 7 AM - 6 PM. The past 3 years have seen an increase noise complaints involving after-hours construction."
   ]
  },
  {
   "cell_type": "markdown",
   "metadata": {},
   "source": [
    "# Conclusion"
   ]
  },
  {
   "cell_type": "markdown",
   "metadata": {},
   "source": [
    "Our analysis shows that data collected from the TomTom API offers a fuller sense of traffic and road incidents. Although the NYC Open Data dataset is comprehensive, we see that the TomTom data can better say which types of incidents are more common and offers different insights into when incidents happen. The TomTom data is clearly valuable for predicting evacuation routes, because it demonstrates that measuring collisions alone is not enough to understand many possible events that can cause traffic. This data confirms certain observations on when incidents are most likely to happen, but also raises new questions about why certain events may happen when they do, as seen in the heatmap above."
   ]
  },
  {
   "cell_type": "code",
   "execution_count": null,
   "metadata": {},
   "outputs": [],
   "source": []
  }
 ],
 "metadata": {
  "kernelspec": {
   "display_name": "Python 3",
   "language": "python",
   "name": "python3"
  },
  "language_info": {
   "codemirror_mode": {
    "name": "ipython",
    "version": 3
   },
   "file_extension": ".py",
   "mimetype": "text/x-python",
   "name": "python",
   "nbconvert_exporter": "python",
   "pygments_lexer": "ipython3",
   "version": "3.7.4"
  },
  "toc": {
   "base_numbering": 1,
   "nav_menu": {},
   "number_sections": true,
   "sideBar": true,
   "skip_h1_title": false,
   "title_cell": "Table of Contents",
   "title_sidebar": "Contents",
   "toc_cell": true,
   "toc_position": {},
   "toc_section_display": true,
   "toc_window_display": true
  }
 },
 "nbformat": 4,
 "nbformat_minor": 2
}
